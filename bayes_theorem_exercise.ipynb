{
 "cells": [
  {
   "cell_type": "markdown",
   "metadata": {
    "ExecuteTime": {
     "end_time": "2020-02-05T17:56:18.818219Z",
     "start_time": "2020-02-05T17:56:18.810698Z"
    }
   },
   "source": [
    "## Exercise 1\n",
    "In Orange County, 51% of the adults are males. (It doesn't take too much advanced\n",
    "mathematics to deduce that the other 49% are females.) One adult is randomly selected\n",
    "for a survey involving credit card usage.\n",
    "\n",
    "- **(a)** Find the probability that the selected person is a male.\n",
    "\n",
    "- **(b)** It is later learned that the selected survey subject was smoking a cigar. Also, 9.5% of males smoke cigars, whereas 1.7% of females smoke cigars (based on data from the Substance Abuse and Mental Health Services Administration). Use this additional information to find the probability that the cigar−smoking respondent is a male\n",
    "\n",
    "Use following notation:\n",
    "M = male <br>\n",
    "F = female <br>\n",
    "C = cigar smoker<br>\n",
    "NC = not a cigar smoker<br>\n"
   ]
  },
  {
   "cell_type": "markdown",
   "metadata": {},
   "source": [
    "<b>a)</b> <br>There is a 51% probability that the selected person is male"
   ]
  },
  {
   "cell_type": "markdown",
   "metadata": {},
   "source": [
    "<b>b)</b>\n",
    "<br>P(A|B) = P(A) P(B|A)/P(B)\n",
    "<br>P(M|C) = P(M) P(C|M)/P(C)\n",
    "<br>P(M) = 0.51\n",
    "<br>P(C|M) = 0.095\n",
    "<br>P(C) = P(M)P(C|M) + P(!M)P(C|!M)\n",
    "<br>P(C) = (0.51)(0.095) + P(0.49)(0.017) = 0.05678\n",
    "<br>P(M|C) = (0.51) * (0.095) / 0.05678\n",
    "<br>P(M|C) = 0.04845/0.05678\n",
    "<br>P(M|C) = 0.8532934"
   ]
  },
  {
   "cell_type": "markdown",
   "metadata": {},
   "source": [
    "There is approximately an 85% probability that the cigar-smoking respondent is a male."
   ]
  },
  {
   "cell_type": "markdown",
   "metadata": {
    "ExecuteTime": {
     "end_time": "2020-02-05T17:56:20.532960Z",
     "start_time": "2020-02-05T17:56:20.525450Z"
    }
   },
   "source": [
    "# Exercise 2\n",
    "\n",
    "A diagnostic test has a probability 0.95 of giving a positive result when applied to a person suffering\n",
    "from a certain disease, and a probability 0.10 of giving a (false) positive when applied to a non-sufferer. It is\n",
    "estimated that 0.5 % of the population are sufferers. Suppose that the test is now administered to a person about\n",
    "whom we have no relevant information relating to the disease (apart from the fact that he/she comes from this\n",
    "population). \n",
    "\n",
    "Calculate the following probabilities:\n",
    "- **(a)** that the test result will be positive;\n",
    "- **(b)** that, given a positive result, the person is a sufferer;\n",
    "- **(c)** that, given a negative result, the person is a non-sufferer;\n",
    "- **(d)** that the person will be misclassified.\n",
    "\n",
    "Use following notation:\n",
    "\n",
    "T = test positive <br>\n",
    "NT = test negative<br>\n",
    "S = sufferer<br>\n",
    "NS = non-sufferer<br>\n",
    "M = misclassified<br>\n",
    "\n",
    "Solve it by two approaches:\n",
    "1. Arithmetically\n",
    "2. By simulation"
   ]
  },
  {
   "cell_type": "markdown",
   "metadata": {},
   "source": [
    "<b>a)</b> 1.\n",
    "<br>P(T) = P(S)P(T|S) + P(NS)P(T|NS)\n",
    "<br>P(T) = (0.05 * 0.95) + (0.95 * 0.1)\n",
    "<br>P(T) = 0.0475 + 0.095\n",
    "<br>P(T) = 0.1425\n",
    "<br>The probability of a positve test result is 14.25%"
   ]
  },
  {
   "cell_type": "markdown",
   "metadata": {},
   "source": [
    "<b>a)</b> 2."
   ]
  },
  {
   "cell_type": "code",
   "execution_count": 27,
   "metadata": {},
   "outputs": [
    {
     "name": "stdout",
     "output_type": "stream",
     "text": [
      "Person tests positive: 14.417%\n"
     ]
    }
   ],
   "source": [
    "import numpy as np\n",
    "\n",
    "n_runs = 100000\n",
    "\n",
    "T = 0\n",
    "NT = 0\n",
    "S = 0\n",
    "S_T = 0\n",
    "S_NT = 0\n",
    "NS = 0\n",
    "NS_T = 0\n",
    "NS_NT = 0\n",
    "M = 0\n",
    "\n",
    "for run in range(n_runs):\n",
    "    if np.random.random() < 0.05:\n",
    "        S += 1\n",
    "        if np.random.random() < 0.95:\n",
    "            S_T += 1\n",
    "            T += 1\n",
    "        else:\n",
    "            S_NT += 1\n",
    "            NT += 1\n",
    "            M += 1\n",
    "    else:\n",
    "        NS += 1\n",
    "        if np.random.random() < 0.1:\n",
    "            NS_T += 1\n",
    "            T += 1\n",
    "            M += 1\n",
    "        else:\n",
    "            NS_NT += 1\n",
    "            NT += 1\n",
    "\n",
    "Prob_T = T / n_runs * 100\n",
    "Prob_NT = NT / n_runs * 100\n",
    "Prob_S = S / n_runs * 100\n",
    "Prob_S_T = S_T / n_runs * 100\n",
    "Prob_S_NT = S_NT / n_runs * 100\n",
    "Prob_NS = NS / n_runs * 100\n",
    "Prob_NS_T = NS_T / n_runs * 100\n",
    "Prob_NS_NT = NS_NT / n_runs * 100\n",
    "Prob_M = M / n_runs * 100\n",
    "\n",
    "print('Person tests positive: {}%'.format(Prob_T))"
   ]
  },
  {
   "cell_type": "markdown",
   "metadata": {},
   "source": [
    "<b>b)</b> 1.\n",
    "<br>P(S|T) = P(S)P(T|S)/P(T)\n",
    "<br>P(S|T) = 0.05 * 0.95 / 0.1425\n",
    "<br>P(S|T) = 0.33333...\n",
    "<br>The probability of a person being a sufferer, given a positive result, is 33 1/3%"
   ]
  },
  {
   "cell_type": "markdown",
   "metadata": {},
   "source": [
    "<b>b)</b> 2."
   ]
  },
  {
   "cell_type": "code",
   "execution_count": 28,
   "metadata": {},
   "outputs": [
    {
     "name": "stdout",
     "output_type": "stream",
     "text": [
      "Probability of a positive result, given the person is a sufferer: 33.59922313934938%\n"
     ]
    }
   ],
   "source": [
    "Prob_T_S = (Prob_S_T / Prob_T) * 100\n",
    "print('Probability of a positive result, given the person is a sufferer: {}%'.format(Prob_T_S))"
   ]
  },
  {
   "cell_type": "markdown",
   "metadata": {},
   "source": [
    "<b>c)</b> 1.\n",
    "<br>P(NS|NT) = P(NS)P(NT|NS)/P(NT)\n",
    "<br>P(NT|NS) = 1 - P(T|NS) = 0.9\n",
    "<br>P(NT) = 1 - P(T) = 0.8575\n",
    "<br>P(NS|NT) = 0.95 * 0.9 / 0.8575\n",
    "<br>P(NS|NT) = 0.997085"
   ]
  },
  {
   "cell_type": "markdown",
   "metadata": {},
   "source": [
    "The probability of the person being a non-sufferer, given a negative test result, is approximately 99.7%"
   ]
  },
  {
   "cell_type": "markdown",
   "metadata": {},
   "source": [
    "<b>c)</b> 2."
   ]
  },
  {
   "cell_type": "code",
   "execution_count": 29,
   "metadata": {},
   "outputs": [
    {
     "name": "stdout",
     "output_type": "stream",
     "text": [
      "Probability of negative sufferer, given negaive result: 99.73359195167265%\n"
     ]
    }
   ],
   "source": [
    "Prob_NT_NS = (Prob_NS_NT / Prob_NT) * 100\n",
    "print('Probability of negative sufferer, given negaive result: {}%'.format(Prob_NT_NS))"
   ]
  },
  {
   "cell_type": "markdown",
   "metadata": {},
   "source": [
    "<b>d)</b> 1.\n",
    "<br>P(M) = P(NS)P(T|NS) + P(S)P(NT|S)\n",
    "<br>P(M) = (0.95 * 0.1) + (0.05 * 0.05)\n",
    "<br>P(M) = 0.095 + 0.0025\n",
    "<br>P(M) = 0.0975\n",
    "<br>There is a 9.75% probability that a person will be misclassified."
   ]
  },
  {
   "cell_type": "markdown",
   "metadata": {},
   "source": [
    "<b>d)</b> 2."
   ]
  },
  {
   "cell_type": "code",
   "execution_count": 30,
   "metadata": {},
   "outputs": [
    {
     "name": "stdout",
     "output_type": "stream",
     "text": [
      "The probability that a person will be misclassified: 9.801%\n"
     ]
    }
   ],
   "source": [
    "print('The probability that a person will be misclassified: {}%'.format(Prob_M))"
   ]
  },
  {
   "cell_type": "code",
   "execution_count": null,
   "metadata": {},
   "outputs": [],
   "source": []
  }
 ],
 "metadata": {
  "kernelspec": {
   "display_name": "Python 3",
   "language": "python",
   "name": "python3"
  },
  "language_info": {
   "codemirror_mode": {
    "name": "ipython",
    "version": 3
   },
   "file_extension": ".py",
   "mimetype": "text/x-python",
   "name": "python",
   "nbconvert_exporter": "python",
   "pygments_lexer": "ipython3",
   "version": "3.8.5"
  },
  "toc": {
   "base_numbering": 1,
   "nav_menu": {},
   "number_sections": true,
   "sideBar": true,
   "skip_h1_title": false,
   "title_cell": "Table of Contents",
   "title_sidebar": "Contents",
   "toc_cell": false,
   "toc_position": {},
   "toc_section_display": true,
   "toc_window_display": false
  },
  "varInspector": {
   "cols": {
    "lenName": 16,
    "lenType": 16,
    "lenVar": 40
   },
   "kernels_config": {
    "python": {
     "delete_cmd_postfix": "",
     "delete_cmd_prefix": "del ",
     "library": "var_list.py",
     "varRefreshCmd": "print(var_dic_list())"
    },
    "r": {
     "delete_cmd_postfix": ") ",
     "delete_cmd_prefix": "rm(",
     "library": "var_list.r",
     "varRefreshCmd": "cat(var_dic_list()) "
    }
   },
   "types_to_exclude": [
    "module",
    "function",
    "builtin_function_or_method",
    "instance",
    "_Feature"
   ],
   "window_display": false
  }
 },
 "nbformat": 4,
 "nbformat_minor": 4
}
